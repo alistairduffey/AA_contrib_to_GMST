{
 "cells": [
  {
   "cell_type": "code",
   "execution_count": 1,
   "id": "e10e66e0-9c0a-4a4a-bc28-f65412775da0",
   "metadata": {},
   "outputs": [],
   "source": [
    "import iris\n",
    "import Utils.iris_utils as iris_utils\n",
    "import pandas as pd\n",
    "import numpy as np\n",
    "import os\n",
    "import logging\n",
    "import esmvalcore.preprocessor\n",
    "import glob\n",
    "import warnings\n",
    "warnings.filterwarnings(\"ignore\")\n",
    "from tqdm import tqdm\n",
    "import xarray as xr\n",
    "from xmip.preprocessing import rename_cmip6"
   ]
  },
  {
   "cell_type": "code",
   "execution_count": 2,
   "id": "f4124b1e-e09e-447b-8517-5cc539dc8c28",
   "metadata": {},
   "outputs": [
    {
     "name": "stdout",
     "output_type": "stream",
     "text": [
      "394\n"
     ]
    }
   ],
   "source": [
    "#exps = [\"ssp370\", \"historical\"]\n",
    "exps = [\"historical\"]\n",
    "#exps = ['ssp245']\n",
    "#exps = ['ssp126']\n",
    "dirs = []\n",
    "var_path = \"Amon/tas\"\n",
    "for experiment in exps:\n",
    "    if experiment == \"historical\":\n",
    "        exp_set = \"CMIP\"\n",
    "    else:\n",
    "        exp_set = \"ScenarioMIP\"\n",
    "    for x in glob.glob('/badc/cmip6/data/CMIP6/{es}/*/*/{e}/*/{v}/*/latest/'.format(es=exp_set, e=experiment, v=var_path)):\n",
    "        dirs.append(x)\n",
    "dirs.reverse()\n",
    "print(len(dirs))"
   ]
  },
  {
   "cell_type": "code",
   "execution_count": 3,
   "id": "5f13e80d-1dfb-4f4a-9cf1-b6c33112db0e",
   "metadata": {},
   "outputs": [],
   "source": [
    "def preprocess(folder, arctic_cut_off=66):\n",
    "    \n",
    "    \"\"\" makes a df contining global mean and {global except arctic} mean\n",
    "        temp by year, for the first ensemble member of each model \"\"\"\n",
    "    \n",
    "    outpath = 'int_outputs/temperature_v2/{M}_{Exp}.csv'.format(M=folder.split('/')[7], Exp=folder.split('/')[8])\n",
    "    #outpath = 'int_outputs/temperature_v3/{M}_{Exp}_{Ens}.csv'.format(\n",
    "    #                                    M=folder.split('/')[7], Exp=folder.split('/')[8], Ens=folder.split('/')[9])\n",
    "    if os.path.exists(outpath):\n",
    "        return\n",
    "    else:                                                              \n",
    "        try:\n",
    "            data = rename_cmip6(xr.open_mfdataset(folder + \"*.nc\", use_cftime=True))\n",
    "            winter_mask = data.time.dt.month.isin([12,1,2])\n",
    "            jan_mask = data.time.dt.month.isin([1]) \n",
    "            name = str(folder.split('/')[7] + '_' + folder.split('/')[8] + '_' + folder.split('/')[9])\n",
    "            \n",
    "            at_data = data['tas']#.isel(member_id=0)\n",
    "            \n",
    "            #at_data = at_data[winter_mask]\n",
    "            \n",
    "            years = data.time.dt.year[jan_mask].compute()\n",
    "            \n",
    "            # month_length = data.time.dt.days_in_month\n",
    "            # weights = ( month_length.groupby(\"time.season\") / month_length.groupby(\"time.season\").mean())\n",
    "            world_annual = (at_data).groupby(\"time.year\").mean(dim=\"time\")\n",
    "            arctic_annual = world_annual.sel(y=slice(-90,arctic_cut_off))\n",
    "            \n",
    "            world_w = world_annual.weighted(weights=np.cos(np.deg2rad(world_annual.y)))\n",
    "            arctic_w = arctic_annual.weighted(weights=np.cos(np.deg2rad(arctic_annual.y)))\n",
    "            \n",
    "            df = pd.DataFrame({'no_arctic_tas':arctic_w.mean((\"x\",\"y\")).compute().values,\n",
    "                               'world_tas':world_w.mean((\"x\",\"y\")).compute().values,\n",
    "                               'year':years.values})\n",
    "            \n",
    "            df.set_index('year',inplace=True)\n",
    "            df.sort_index(inplace=True)\n",
    "            df['Model'] = folder.split('/')[7]\n",
    "            df['Experiment'] = folder.split('/')[8]\n",
    "            df['Ensemble_member'] = folder.split('/')[9]\n",
    "            df.to_csv(outpath) \n",
    "        except:\n",
    "            print(name)"
   ]
  },
  {
   "cell_type": "code",
   "execution_count": 40,
   "id": "ace5a4fd-9ba3-4876-a4d8-a26c9bc3298c",
   "metadata": {},
   "outputs": [],
   "source": []
  },
  {
   "cell_type": "code",
   "execution_count": null,
   "id": "08277c6c-2e63-48c8-884e-051e72c49a98",
   "metadata": {},
   "outputs": [
    {
     "name": "stderr",
     "output_type": "stream",
     "text": [
      " 99%|█████████▉| 158/160 [04:55<00:02,  1.00s/it]"
     ]
    }
   ],
   "source": [
    "for dir in tqdm(dirs):\n",
    "    preprocess(dir)"
   ]
  },
  {
   "cell_type": "code",
   "execution_count": null,
   "id": "bf9c9443-f9ed-4800-a26e-a2bc58a81700",
   "metadata": {},
   "outputs": [],
   "source": []
  },
  {
   "cell_type": "code",
   "execution_count": null,
   "id": "00d1faf9-f9da-4b1f-8ce7-3614d1b2cce4",
   "metadata": {},
   "outputs": [],
   "source": []
  },
  {
   "cell_type": "code",
   "execution_count": 33,
   "id": "29047ae1-f3b4-4f9f-9c8e-73eb372351f7",
   "metadata": {},
   "outputs": [],
   "source": [
    "def preprocess_hadcrut(file, arctic_cut_off=66):\n",
    "    outpath = 'int_outputs/temperature_hadcrut/hadcrut5_tas.csv'\n",
    "\n",
    "    data = xr.open_mfdataset(Hadcrut_file, use_cftime=True).load()\n",
    "    data = data.groupby(\"time.year\").mean(dim=\"time\")\n",
    "    data = data.mean(\"longitude\")\n",
    "    #print(data)\n",
    "    new_lat = np.arange(-90, 90, 0.5)\n",
    "    data = data.interp(latitude=new_lat)\n",
    "    #print(data)\n",
    "    \n",
    "    years = data.year.compute()\n",
    "                \n",
    "    arctic_annual = data.sel(latitude=slice(-90,arctic_cut_off))\n",
    "    world_w = data.weighted(weights=np.cos(np.deg2rad(data.latitude)))\n",
    "    arctic_w = arctic_annual.weighted(weights=np.cos(np.deg2rad(arctic_annual.latitude)))\n",
    "    \n",
    "    \n",
    "    df = pd.DataFrame({'no_arctic_tas':arctic_w.mean(\"latitude\")['tas_mean'],\n",
    "                        'world_tas':world_w.mean(\"latitude\")['tas_mean'],\n",
    "                        'year':years.values})\n",
    "    \n",
    "    df.set_index('year',inplace=True)\n",
    "    df.sort_index(inplace=True)\n",
    "    df.to_csv(outpath)\n",
    "\n",
    "Hadcrut_file = 'Inputs/HadCRUT5/Downloaded_29_12_22/HadCRUT.5.0.1.0.analysis.anomalies.ensemble_mean.nc'\n",
    "preprocess_hadcrut(Hadcrut_file)"
   ]
  },
  {
   "cell_type": "code",
   "execution_count": null,
   "id": "8ae77e98-f0fd-49ce-9c10-750f65c95328",
   "metadata": {},
   "outputs": [],
   "source": []
  },
  {
   "cell_type": "code",
   "execution_count": 3,
   "id": "6c47bf02-7d63-44a9-8a1a-443192054593",
   "metadata": {},
   "outputs": [],
   "source": [
    "def preprocess_multi_ens(folder, arctic_cut_off=66):\n",
    "    \n",
    "    \"\"\" makes a df contining global mean and {global except arctic} mean\n",
    "        temp by year, for the first ensemble member of each model \"\"\"\n",
    "    \n",
    "    outpath = 'int_outputs/temperature_multi_ens/{M}_{Exp}_{Ens}.csv'.format(\n",
    "                M=folder.split('/')[7], Exp=folder.split('/')[8], Ens=folder.split('/')[9])\n",
    "    \n",
    "    if os.path.exists(outpath):\n",
    "        return\n",
    "    else:                                                              \n",
    "        try:\n",
    "            data = rename_cmip6(xr.open_mfdataset(folder + \"*.nc\", use_cftime=True))\n",
    "            winter_mask = data.time.dt.month.isin([12,1,2])\n",
    "            jan_mask = data.time.dt.month.isin([1]) \n",
    "            name = str(folder.split('/')[7] + '_' + folder.split('/')[8] + '_' + folder.split('/')[9])\n",
    "            \n",
    "            at_data = data['tas']#.isel(member_id=0)\n",
    "            \n",
    "            #at_data = at_data[winter_mask]\n",
    "            \n",
    "            years = data.time.dt.year[jan_mask].compute()\n",
    "            \n",
    "            # month_length = data.time.dt.days_in_month\n",
    "            # weights = ( month_length.groupby(\"time.season\") / month_length.groupby(\"time.season\").mean())\n",
    "            world_annual = (at_data).groupby(\"time.year\").mean(dim=\"time\")\n",
    "            arctic_annual = world_annual.sel(y=slice(-90,arctic_cut_off))\n",
    "            \n",
    "            world_w = world_annual.weighted(weights=np.cos(np.deg2rad(world_annual.y)))\n",
    "            arctic_w = arctic_annual.weighted(weights=np.cos(np.deg2rad(arctic_annual.y)))\n",
    "            \n",
    "            df = pd.DataFrame({'no_arctic_tas':arctic_w.mean((\"x\",\"y\")).compute().values,\n",
    "                               'world_tas':world_w.mean((\"x\",\"y\")).compute().values,\n",
    "                               'year':years.values})\n",
    "            \n",
    "            df.set_index('year',inplace=True)\n",
    "            df.sort_index(inplace=True)\n",
    "            df['Model'] = folder.split('/')[7]\n",
    "            df['Experiment'] = folder.split('/')[8]\n",
    "            df['Ensemble_member'] = folder.split('/')[9]\n",
    "            df.to_csv(outpath) \n",
    "        except:\n",
    "            print(name)"
   ]
  },
  {
   "cell_type": "code",
   "execution_count": 6,
   "id": "882528c5-8b78-45d6-be43-052d1477bfe1",
   "metadata": {},
   "outputs": [],
   "source": [
    "#dirs.reverse()"
   ]
  },
  {
   "cell_type": "code",
   "execution_count": null,
   "id": "7a664ad2-1d78-4651-9203-2ac95836b92f",
   "metadata": {},
   "outputs": [
    {
     "name": "stderr",
     "output_type": "stream",
     "text": [
      "  1%|          | 2/394 [01:36<6:00:57, 55.25s/it]"
     ]
    }
   ],
   "source": [
    "for dir in tqdm(dirs):\n",
    "    preprocess_multi_ens(dir)"
   ]
  },
  {
   "cell_type": "code",
   "execution_count": null,
   "id": "f5619621-a47c-4962-9055-7ca5b1972da2",
   "metadata": {},
   "outputs": [],
   "source": []
  }
 ],
 "metadata": {
  "kernelspec": {
   "display_name": "main",
   "language": "python",
   "name": "main"
  },
  "language_info": {
   "codemirror_mode": {
    "name": "ipython",
    "version": 3
   },
   "file_extension": ".py",
   "mimetype": "text/x-python",
   "name": "python",
   "nbconvert_exporter": "python",
   "pygments_lexer": "ipython3",
   "version": "3.10.5"
  }
 },
 "nbformat": 4,
 "nbformat_minor": 5
}
