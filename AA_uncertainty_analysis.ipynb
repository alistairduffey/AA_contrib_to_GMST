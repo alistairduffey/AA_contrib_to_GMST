{
 "cells": [
  {
   "cell_type": "markdown",
   "id": "29c656a7-c508-45f9-92c3-c9adba1235ab",
   "metadata": {},
   "source": [
    "#### Figures and analysis for Duffey et al., (2023) 'Rapid Arctic Warming Will Push Global Temperatures Past 1.5C Target Five Years Earlier'\n",
    "Notebook calculates statistics the analysis of AA's contribution to uncertainty in crossingtime for the 1.5°C and 2°C thresholds across the CMIP6 ensemble. \n",
    "\n",
    "The code relies on a pre-populated folder 'int_outputs/temperature_v2/' containing csvs of Global, Arctic and GLobal_without_Arctic near-surface air temperature (tas), pre-processed into spatial and annual means. This pre-processing is done in a seperate notebook: 'preprocess_tas.ipynb'. \n",
    "\n",
    "Author: Alistair Duffey, alistair.duffey.21@ucl.ac.uk"
   ]
  },
  {
   "cell_type": "code",
   "execution_count": 1,
   "id": "36d1b35b-0d9a-41ba-916c-6fec75d0c993",
   "metadata": {},
   "outputs": [],
   "source": [
    "import matplotlib.pyplot as plt\n",
    "import matplotlib.ticker as ticker\n",
    "from matplotlib.ticker import AutoMinorLocator\n",
    "\n",
    "import numpy as np\n",
    "import xarray as xr\n",
    "import os\n",
    "import glob\n",
    "import pandas as pd\n",
    "pd.options.mode.chained_assignment = None\n",
    "import scipy.stats as stats\n",
    "from pingouin import partial_corr\n",
    "\n",
    "def make_df(path):\n",
    "    all_files = glob.glob(os.path.join(path, \"*.csv\"))\n",
    "    df = pd.concat((pd.read_csv(f) for f in all_files), ignore_index=True)\n",
    "    return df\n",
    "\n",
    "def get_baseline(df, t_bnds=[1850, 1900], monthly=False, multi_ens=False):\n",
    "    df_hist = df[df['Experiment']=='historical']\n",
    "    \n",
    "    df_hist = df_hist[(df_hist['year'] > t_bnds[0]) & (df_hist['year'] < t_bnds[1])]\n",
    "    \n",
    "    df_hist['base_t_bnds'] = str(t_bnds[0]) + '-' + str(t_bnds[1])\n",
    "    if monthly:\n",
    "        df_hist = df_hist.groupby(['Model', 'base_t_bnds', 'Month']).mean().reset_index().rename(columns=baseline_name_changes)\n",
    "    else:\n",
    "        if multi_ens:\n",
    "            df_hist = df_hist.groupby(['Model', 'Ensemble_member', 'base_t_bnds']).mean().reset_index().rename(columns=baseline_name_changes)\n",
    "        else:\n",
    "            df_hist = df_hist.groupby(['Model', 'base_t_bnds']).mean().reset_index().rename(columns=baseline_name_changes)\n",
    "    df_hist = df_hist.drop(columns=['year'])\n",
    "    return df_hist\n",
    "\n",
    "\n",
    "def preprocess_obs(df, window, preind_period=[1850,1900]):\n",
    "    \"\"\" hadcrut analysis annual means tas data is donwloaded as anomaly relative to the period \n",
    "        1961-1990, (see description here: https://www.metoffice.gov.uk/hadobs/hadcrut5/data/current/download.html)\n",
    "        we preprocess by re-baselining this to be anomaly relative to our preindustrial period, 1850-1900\"\"\n",
    "    \n",
    "    returns df with tas relative to pre-industrial mean \"\"\"\n",
    "    #df.rename(columns={'Time':'Year'}, inplace=True)\n",
    "    df_pre_ind = df[df['year'].between(preind_period[0], preind_period[1])]\n",
    "    offset_w = df_pre_ind['world_tas'].mean()\n",
    "    offset_na = df_pre_ind['no_arctic_tas'].mean()\n",
    "    df_out = df.copy()\n",
    "    df_out['world_tas'] = df_out['world_tas'] - offset_w\n",
    "    df_out['no_arctic_tas'] = df_out['no_arctic_tas'] - offset_na\n",
    "    df_out['world_tas'] = df_out['world_tas'].rolling(window, center=True).mean()\n",
    "    df_out['no_arctic_tas'] = df_out['no_arctic_tas'].rolling(window, center=True).mean()\n",
    "    return df_out"
   ]
  },
  {
   "cell_type": "code",
   "execution_count": 2,
   "id": "13019340-9e31-484a-8ed4-375c49642cf8",
   "metadata": {},
   "outputs": [
    {
     "name": "stdout",
     "output_type": "stream",
     "text": [
      "45\n"
     ]
    }
   ],
   "source": [
    "### set up and read in temp data\n",
    "\n",
    "out_dfs = {}\n",
    "\n",
    "## models\n",
    "baseline_name_changes = {'no_arctic_tas':'no_arctic_base_tas',\n",
    "                         'arctic_tas':'arctic_base_tas',\n",
    "                         'world_tas':'world_base_tas',\n",
    "                        }\n",
    "window=20\n",
    "\n",
    "#exp='ssp370'\n",
    "exp='ssp245'\n",
    "#exp='ssp126'\n",
    "\n",
    "\n",
    "temp_correction_method = 'scale' #options are 'scale', 'offset' or 'None'\n",
    "#temp_correction_method = 'offset' \n",
    "#temp_correction_method = 'None' \n",
    "\n",
    "\n",
    "## observations file path\n",
    "obs_file = 'int_outputs/temperature_hadcrut/hadcrut5_tas.csv'\n",
    "Obs_df = preprocess_obs(pd.read_csv(obs_file), window=window)\n",
    "obs_set = 'Hadcrut5'\n",
    "\n",
    "\n",
    "### initial processing, add baseline temp to each model, \n",
    "### only keep those models with a historic scenario available\n",
    "\n",
    "in_folder_tas = 'int_outputs/temperature_v2/'\n",
    "\n",
    "tas_df = make_df(in_folder_tas)\n",
    "tas_df = tas_df[tas_df['Experiment'].isin(['historical', exp])]\n",
    "\n",
    "tas_df = tas_df.groupby(['year', 'Experiment', 'Model', 'Ensemble_member']).mean().reset_index() \n",
    "\n",
    "base_tas_df = pd.read_csv('int_outputs/Base_tas_df.csv')\n",
    "base_tas_df_extra_col = get_baseline(tas_df, [1850, 1900], multi_ens=False)[['Model', 'arctic_base_tas']]\n",
    "base_tas_df = pd.merge(base_tas_df, base_tas_df_extra_col, how='left', on='Model')\n",
    "\n",
    "\n",
    "tas_df = pd.merge(tas_df, base_tas_df, how='left', on='Model')\n",
    "tas_df['no_arctic_tas_anom'] = tas_df['no_arctic_tas'] - tas_df['no_arctic_base_tas']\n",
    "tas_df['arctic_tas_anom'] = tas_df['arctic_tas'] - tas_df['arctic_base_tas']\n",
    "tas_df['world_tas_anom'] = tas_df['world_tas'] - tas_df['world_base_tas']\n",
    "\n",
    "models = tas_df[tas_df['Experiment']==exp]['Model'].unique()\n",
    "tas_df = tas_df[tas_df['Model'].isin(models)]\n",
    "tas_df = tas_df.dropna()\n",
    "\n",
    "models = tas_df['Model'].unique()\n",
    "print(len(models))\n",
    "models_init = models.copy()"
   ]
  },
  {
   "cell_type": "code",
   "execution_count": null,
   "id": "529bf8ed-ed57-45eb-a3b1-770c50672be1",
   "metadata": {},
   "outputs": [],
   "source": []
  },
  {
   "cell_type": "code",
   "execution_count": 3,
   "id": "b8f7e2b4-af80-4896-8cbd-2b1a73415735",
   "metadata": {},
   "outputs": [
    {
     "name": "stdout",
     "output_type": "stream",
     "text": [
      "at least one complete historical run check:EC-Earth3-Veg-LR\n"
     ]
    },
    {
     "name": "stderr",
     "output_type": "stream",
     "text": [
      "/tmp/ipykernel_1010/2142527251.py:10: UserWarning: Boolean Series key will be reindexed to match DataFrame index.\n",
      "  df_test = tas_df[tas_df['Model']==model][tas_df['Ensemble_member']==ens]\n",
      "/tmp/ipykernel_1010/2142527251.py:20: UserWarning: Boolean Series key will be reindexed to match DataFrame index.\n",
      "  df_test = tas_df[tas_df['Model']==model][tas_df['Ensemble_member']==ens]\n",
      "/tmp/ipykernel_1010/2142527251.py:29: UserWarning: Boolean Series key will be reindexed to match DataFrame index.\n",
      "  df_test = tas_df[tas_df['Model']==model][tas_df['Ensemble_member']==ens]\n",
      "/tmp/ipykernel_1010/2142527251.py:32: UserWarning: Boolean Series key will be reindexed to match DataFrame index.\n",
      "  tas_df.drop(tas_df[tas_df['Model']==model][tas_df['Ensemble_member']==ens].index, inplace=True)\n"
     ]
    },
    {
     "name": "stdout",
     "output_type": "stream",
     "text": [
      "dropped_mods:  ['E3SM-1-1', 'EC-Earth3-Veg-LR']\n",
      "final model set length: 43\n"
     ]
    }
   ],
   "source": [
    "\n",
    "for model in models:\n",
    "    df_test = tas_df[tas_df['Model']==model]\n",
    "    if not 2005 in df_test.year.values:\n",
    "        print(\"at least one complete historical run check:\" + model)\n",
    "        tas_df.drop(tas_df[tas_df['Model']==model].index, inplace=True)\n",
    "    \n",
    "\n",
    "for model in models:\n",
    "    for ens in tas_df[tas_df['Model']==model]['Ensemble_member'].unique():\n",
    "        df_test = tas_df[tas_df['Model']==model][tas_df['Ensemble_member']==ens]\n",
    "        if not 2005 in df_test.year.values:\n",
    "            print(model+ens + '  incomplete')\n",
    "            tas_df.drop(tas_df[tas_df['Model']==model][tas_df['Ensemble_member']==ens].index, inplace=True)\n",
    "        \n",
    "\n",
    "### drop ensemble members which only have a historical run from tas_df\n",
    "#print(len(tas_df))\n",
    "for model in models:\n",
    "    for ens in tas_df[tas_df['Model']==model]['Ensemble_member'].unique():\n",
    "        df_test = tas_df[tas_df['Model']==model][tas_df['Ensemble_member']==ens]\n",
    "        if not exp in df_test['Experiment'].unique():\n",
    "            #print(model+ens+'  no ssp245')\n",
    "            tas_df.drop(tas_df[tas_df['Model']==model][tas_df['Ensemble_member']==ens].index, inplace=True)\n",
    "#print(len(tas_df))\n",
    "\n",
    "### check whether any ensemble members are incomplete\n",
    "for model in models:\n",
    "    for ens in tas_df[tas_df['Model']==model]['Ensemble_member'].unique():\n",
    "        df_test = tas_df[tas_df['Model']==model][tas_df['Ensemble_member']==ens]\n",
    "        if df_test.year.max() < 2070:\n",
    "            #print(model+ens + '  incomplete')\n",
    "            tas_df.drop(tas_df[tas_df['Model']==model][tas_df['Ensemble_member']==ens].index, inplace=True)\n",
    "#print(len(tas_df))\n",
    "\n",
    "## update models to represent the final list\n",
    "models = tas_df['Model'].unique()\n",
    "dropped_mods = [item for item in models_init if item not in models]\n",
    "print('dropped_mods: ', dropped_mods)\n",
    "print('final model set length:', len(models))"
   ]
  },
  {
   "cell_type": "code",
   "execution_count": null,
   "id": "0cd391e9-5fc9-4f0d-9ea5-3b82b835ff8c",
   "metadata": {},
   "outputs": [],
   "source": []
  },
  {
   "cell_type": "markdown",
   "id": "594068dd-6873-4faa-a853-7c682dbd3121",
   "metadata": {},
   "source": [
    "### The following cell takes rolling means, bias corects model projections, and calculates crossing years"
   ]
  },
  {
   "cell_type": "code",
   "execution_count": 4,
   "id": "304c9307-7082-494d-a881-f6b761194c98",
   "metadata": {},
   "outputs": [
    {
     "name": "stdout",
     "output_type": "stream",
     "text": [
      "Temp_thresh: 1.5°C\n",
      "observation year: 2013\n",
      "Hadcrut5 temp in obs_year:1.0193770731829956\n",
      "Hadcrut5 temp without AA in obs_year:0.9443381329053093\n",
      "AA contrib:0.07503894027768632\n",
      "AA contrib (%)0.07361254461352354\n",
      "mean gap: 4.71086046511629 +- 0.3905771187533693\n",
      "adjusted up: 22\n",
      "adjusted down: 21\n",
      "mean AA: 1.5309914966252687\n",
      "....\n",
      "....\n",
      "Temp_thresh: 2°C\n",
      "FGOALS-g3 doesnt cross 2 without arctic\n",
      "extrapolated crossing year: 2110.1531027337205\n",
      "KIOST-ESM doesnt cross 2 without arctic\n",
      "extrapolated crossing year: 2116.493802288304\n",
      "observation year: 2013\n",
      "Hadcrut5 temp in obs_year:1.0193770731829956\n",
      "Hadcrut5 temp without AA in obs_year:0.9443381329053093\n",
      "AA contrib:0.07503894027768632\n",
      "AA contrib (%)0.07361254461352354\n",
      "mean gap: 8.288837209302311 +- 1.0313502723116836\n",
      "adjusted up: 22\n",
      "adjusted down: 21\n",
      "mean AA: 1.5309914966252687\n",
      "....\n",
      "....\n"
     ]
    }
   ],
   "source": [
    "global_warming_obs = float(Obs_df.dropna().tail(1)['world_tas'])\n",
    "no_arctic_warming_obs = float(Obs_df.dropna().tail(1)['no_arctic_tas'])\n",
    "arctic_warming_obs = float(Obs_df.dropna().tail(1)['arctic_tas'])\n",
    "\n",
    "obs_year = int(Obs_df.dropna().tail(1)['year'])\n",
    "\n",
    "\n",
    "for temp_thresh in [1.5, 2]:\n",
    "    print('Temp_thresh: ' + str(temp_thresh)+'°C')\n",
    "    \n",
    "    Model = []\n",
    "    No_arctic = []\n",
    "    World = []\n",
    "    AAs = []\n",
    "    Arctic_warming_rates = []\n",
    "    World_warming_rates = []\n",
    "    Ensemble_member = []\n",
    "    No_arctic_warming_rates = []\n",
    "    \n",
    "   # M_df = pd.DataFrame(columns=tas_df_1st_mem.columns)\n",
    "    M_df = pd.DataFrame(columns=tas_df.columns)\n",
    "\n",
    "    blues = []\n",
    "    reds = []\n",
    "    years = []\n",
    "\n",
    "    adjusted_up = 0\n",
    "    adjusted_down = 0\n",
    "\n",
    "    adjusted_up_ms = []\n",
    "    \n",
    "    for m in models:\n",
    "        #m_df = tas_df_1st_mem[tas_df_1st_mem['Model']==m]\n",
    "        m_df = tas_df[tas_df['Model']==m]\n",
    "        \n",
    "    \n",
    "        m_df.sort_values(by='year', axis=0)\n",
    "\n",
    "    \n",
    "        m_df['rolling_world_anom'] = m_df['world_tas_anom'].rolling(window, center=True).mean()\n",
    "        m_df['rolling_no_arctic_anom'] = m_df['no_arctic_tas_anom'].rolling(window, center=True).mean()\n",
    "        m_df['rolling_arctic_anom'] = m_df['arctic_tas_anom'].rolling(window, center=True).mean()\n",
    "\n",
    "        \n",
    "        ratio_w = (m_df[m_df['year']==obs_year]['rolling_world_anom']/global_warming_obs).values[0]\n",
    "        ratio_na = (m_df[m_df['year']==obs_year]['rolling_no_arctic_anom']/no_arctic_warming_obs).values[0]\n",
    "        ratio_a = (m_df[m_df['year']==obs_year]['rolling_arctic_anom']/arctic_warming_obs).values[0]\n",
    "\n",
    "        offset_w = (m_df[m_df['year']==obs_year]['rolling_world_anom'] - global_warming_obs).values[0]\n",
    "        offset_na = (m_df[m_df['year']==obs_year]['rolling_no_arctic_anom'] - no_arctic_warming_obs).values[0]\n",
    "        offset_a = (m_df[m_df['year']==obs_year]['rolling_arctic_anom'] - arctic_warming_obs).values[0]\n",
    "\n",
    "        \n",
    "        if offset_w > 0:\n",
    "            adjusted_up_ms.append(m)\n",
    "            adjusted_up +=1\n",
    "        else:\n",
    "            adjusted_down +=1\n",
    "        \n",
    "        if temp_correction_method == 'scale':\n",
    "            m_df['adjusted_world_tas_anom']= (m_df['rolling_world_anom']/ratio_w)\n",
    "            m_df['adjusted_no_arctic_tas_anom']= (m_df['rolling_no_arctic_anom']/ratio_na)\n",
    "            m_df['adjusted_arctic_tas_anom']= (m_df['rolling_arctic_anom']/ratio_a)\n",
    "            \n",
    "        elif temp_correction_method == 'offset':\n",
    "            m_df['adjusted_world_tas_anom']= (m_df['rolling_world_anom'] - offset_w)\n",
    "            m_df['adjusted_no_arctic_tas_anom']= (m_df['rolling_no_arctic_anom'] - offset_na)\n",
    "            m_df['adjusted_arctic_tas_anom']= (m_df['rolling_arctic_anom'] - offset_a)\n",
    "            \n",
    "        elif temp_correction_method == 'None':\n",
    "            m_df['adjusted_world_tas_anom']= m_df['rolling_world_anom']\n",
    "            m_df['adjusted_no_arctic_tas_anom']= m_df['rolling_no_arctic_anom']\n",
    "            m_df['adjusted_arctic_tas_anom']= m_df['rolling_arctic_anom']\n",
    "            \n",
    "        m_df_plot = m_df[m_df['year'] >= obs_year]\n",
    "\n",
    "        blues.append(np.array(m_df_plot['adjusted_world_tas_anom']))\n",
    "        reds.append(np.array(m_df_plot['adjusted_no_arctic_tas_anom']))\n",
    "        years.append(np.array(m_df_plot['year']))\n",
    "\n",
    "    #         M_df = M_df.append(m_df, ignore_index = True) # Replaced with modern pandas below\n",
    "        M_df = pd.concat([M_df,m_df],axis=0)\n",
    "\n",
    "        ### calc AA\n",
    "        m_df_AA = m_df[m_df['year'] > obs_year]\n",
    "        m_df_AA = m_df_AA[m_df_AA['year'] < 2044]\n",
    "\n",
    "\n",
    "        \n",
    "        AA = stats.linregress(m_df_AA['year'], m_df_AA['adjusted_arctic_tas_anom']).slope/stats.linregress(\n",
    "                            m_df_AA['year'], m_df_AA['adjusted_world_tas_anom']).slope\n",
    "        Arctic_warming_rate = stats.linregress(m_df_AA['year'], m_df_AA['adjusted_arctic_tas_anom']).slope\n",
    "        World_warming_rate = stats.linregress(m_df_AA['year'], m_df_AA['adjusted_world_tas_anom']).slope\n",
    "        No_arctic_warming_rate = stats.linregress(m_df_AA['year'], m_df_AA['adjusted_no_arctic_tas_anom']).slope\n",
    "        \n",
    "        #also calc crossings\n",
    "        # if no crossing by 2100 (which is the case for Fgoals-g3 under ssp245) extrapolate using linregress for last 20 years\n",
    "        \n",
    "        no_arctic_crossing_year = np.interp(temp_thresh, m_df['adjusted_no_arctic_tas_anom'], m_df['year'])\n",
    "        if np.isnan(no_arctic_crossing_year): #extrapolate\n",
    "            if not exp == 'ssp126': #don't extrapolate ssp126\n",
    "                print(m + ' doesnt cross {} without arctic'.format(temp_thresh))\n",
    "                m_df_regress = m_df[m_df['year'] > 2080].dropna()\n",
    "                regression = stats.linregress(m_df_regress['year'], m_df_regress['adjusted_no_arctic_tas_anom'])\n",
    "                no_arctic_crossing_year = (temp_thresh - regression[1])/regression[0]\n",
    "                print('extrapolated crossing year: {}'.format(str(no_arctic_crossing_year)))\n",
    "            \n",
    "        world_crossing_year = np.interp(temp_thresh, m_df['adjusted_world_tas_anom'], m_df['year'])\n",
    "\n",
    "        Model.append(m)\n",
    "        No_arctic.append(np.round(no_arctic_crossing_year,3))\n",
    "        World.append(np.round(world_crossing_year,3))\n",
    "        AAs.append(AA)\n",
    "        Arctic_warming_rates.append(Arctic_warming_rate)\n",
    "        World_warming_rates.append(World_warming_rate)\n",
    "        No_arctic_warming_rates.append(No_arctic_warming_rate)\n",
    "        #Ensemble_member.append(e)\n",
    "\n",
    "    out_df = pd.DataFrame({'Model':Model,\n",
    "                           #'Ensemble_member':Ensemble_member,\n",
    "                           'No_arctic_crossing_year':No_arctic,\n",
    "                           'World_crossing_year':World,\n",
    "                           'AA':AAs,\n",
    "                           'Arctic_warming_rate':Arctic_warming_rates,\n",
    "                           'World_warming_rate':World_warming_rates,\n",
    "                           'No_arctic_warming_rate':No_arctic_warming_rates})\n",
    "    \n",
    "    out_df['gap'] = out_df['No_arctic_crossing_year'] - out_df['World_crossing_year']\n",
    "    \n",
    "    out_dfs[temp_thresh] = out_df\n",
    "\n",
    "    #mm_mean_df = out_df.groupby()\n",
    "\n",
    "    ## add observations:\n",
    "\n",
    "    \n",
    "    print('observation year: ' + str(obs_year))\n",
    "    print('{} temp in obs_year:'.format(obs_set) + str(global_warming_obs))\n",
    "    print('{} temp without AA in obs_year:'.format(obs_set) + str(no_arctic_warming_obs))\n",
    "    print('AA contrib:' + str((global_warming_obs-no_arctic_warming_obs)))\n",
    "    print('AA contrib (%)' + str((global_warming_obs-no_arctic_warming_obs)/global_warming_obs))\n",
    "    print('mean gap: ' + str(out_df['gap'].mean()) + ' +- ' + str(stats.sem(out_df['gap'].dropna())))\n",
    "    print('adjusted up: '+ str(adjusted_up))\n",
    "    print('adjusted down: '+ str(adjusted_down))\n",
    "    print('mean AA: '+str(out_df['AA'].mean()))\n",
    "    print('....')\n",
    "    print('....')"
   ]
  },
  {
   "cell_type": "code",
   "execution_count": null,
   "id": "c4d6a895-20c5-4440-9e98-b77e73756fc8",
   "metadata": {},
   "outputs": [],
   "source": []
  },
  {
   "cell_type": "markdown",
   "id": "8a8d0da6-beff-4119-83fe-b19d5c71755d",
   "metadata": {},
   "source": [
    "The following cell plots the some relevant variables against one another, to demonstrate that:\n",
    "(1) AA not strongly corelated to crossing year (because of the denominator)\n",
    "(2) Warming outside the arctic is strongly correlated to warming in the Arctic across the multi-model ensemble\n",
    "(3) Both wamring in the Arctic and warming outside the Arctic are strongly negatively correlated with crossing year"
   ]
  },
  {
   "cell_type": "code",
   "execution_count": 5,
   "id": "11b330a5-c1e6-4eaf-9ba0-44e5b8d551fd",
   "metadata": {},
   "outputs": [
    {
     "data": {
      "image/png": "[encoded data removed]",
      "text/plain": [
       "<Figure size 576x432 with 4 Axes>"
      ]
     },
     "metadata": {
      "needs_background": "light"
     },
     "output_type": "display_data"
    }
   ],
   "source": [
    "\n",
    "plt_thresh=1.5\n",
    "\n",
    "plt_data = out_dfs[plt_thresh]\n",
    "#plt_data['World_crossing_year'] = np.log(plt_data['World_crossing_year'])\n",
    "\n",
    "at_plt_data = plt_data.copy()\n",
    "\n",
    "fig, axs = plt.subplots(2,2,figsize=(8,6))\n",
    "\n",
    "x_vars=['AA', 'No_arctic_warming_rate', 'Arctic_warming_rate', 'No_arctic_warming_rate']\n",
    "y_vars=['World_crossing_year', 'Arctic_warming_rate', 'World_crossing_year', 'World_crossing_year']\n",
    "\n",
    "#var_dict = {'World_warming_rate':'B',\n",
    " #           'Arctic_warming_rate':'A',\n",
    " #            'World_crossing_year':'C'}\n",
    "\n",
    "labels=['a', 'b', 'c', 'd']\n",
    "i=0\n",
    "l=0\n",
    "for l in np.arange(len(x_vars)):\n",
    "    x_var=x_vars[l]\n",
    "    y_var=y_vars[l]\n",
    "    \n",
    "    ax=axs.flatten()[l]\n",
    "    ax.scatter(at_plt_data[x_var], at_plt_data[y_var])\n",
    "\n",
    "    regression = stats.linregress(x=at_plt_data[x_var].astype(float),\n",
    "                                  y=at_plt_data[y_var].astype(float))\n",
    "    r = regression.rvalue\n",
    "    r2 = (regression.rvalue)**2\n",
    "    xs= np.linspace(np.min(at_plt_data[x_var]), np.max(at_plt_data[x_var]), 1000)\n",
    "    ys = (regression.slope*xs)+regression.intercept\n",
    "    ax.plot(xs, ys)\n",
    "    \n",
    "    ax.text(0.8, 0.6, 'r: '+str(np.round(r,3)), transform=ax.transAxes)\n",
    "    ax.text(0.8, 0.5, 'r\\u00b2: '+str(np.round(r2,3)), transform=ax.transAxes)\n",
    "    i=i+1\n",
    "    #ax.set_title(mod)\n",
    "    ax.set_xlabel(x_var)\n",
    "    ax.set_ylabel(y_var)\n",
    "    ax.set_title(labels[l])\n",
    "    #ax.set_xlabel(var_dict[x_var])\n",
    "    #ax.set_ylabel(var_dict[y_var])\n",
    "    l=l+1\n",
    "\n",
    "plt.tight_layout()"
   ]
  },
  {
   "cell_type": "code",
   "execution_count": 6,
   "id": "ab45fb0a-c9df-4420-aba9-fbe7158f1c4a",
   "metadata": {},
   "outputs": [
    {
     "name": "stdout",
     "output_type": "stream",
     "text": [
      "Partial correlation analysis, for World_crossing_year in terms of Arctic_warming_rate, controlling for No_arctic_warming_rate\n",
      "...\n",
      "r: pearson   -0.38986\n",
      "Name: r, dtype: float64\n",
      "r²: pearson    0.15199\n",
      "Name: r, dtype: float64\n",
      "pvalpearson    0.0107\n",
      "Name: p-val, dtype: float64\n"
     ]
    }
   ],
   "source": [
    "## find partial corrs across the multi-model ensemble:\n",
    "\n",
    "x_var = 'Arctic_warming_rate'\n",
    "y_var = 'World_crossing_year'\n",
    "c_vars = ['No_arctic_warming_rate']\n",
    "\n",
    "ppc = partial_corr(data=at_plt_data, x=x_var,\n",
    "             y=y_var, covar=c_vars, method='pearson')\n",
    "\n",
    "print('Partial correlation analysis, for {y} in terms of {x}, controlling for {c}'.format(x=x_var, y=y_var, c=c_vars[0]))\n",
    "print('...')\n",
    "print('r: '+str(np.round((ppc.r), 5)))\n",
    "print('r\\u00b2: '+str(np.round((ppc.r)**2, 5)))\n",
    "print('pval'+str(np.round(ppc['p-val'], 5)))\n",
    "\n"
   ]
  },
  {
   "cell_type": "code",
   "execution_count": 7,
   "id": "b15e4bb6-1a24-4cb3-8b08-f8501e1a0e46",
   "metadata": {},
   "outputs": [
    {
     "name": "stdout",
     "output_type": "stream",
     "text": [
      "Partial correlation analysis, for World_crossing_year in terms of No_arctic_warming_rate, controlling for Arctic_warming_rate\n",
      "r: pearson   -0.775\n",
      "Name: r, dtype: float64\n",
      "r²: pearson    0.6\n",
      "Name: r, dtype: float64\n",
      "pvalpearson    0.0\n",
      "Name: p-val, dtype: float64\n"
     ]
    }
   ],
   "source": [
    "## find partial corrs across the multi-model ensemble:\n",
    "\n",
    "   \n",
    "x_var = 'No_arctic_warming_rate'\n",
    "y_var = 'World_crossing_year'\n",
    "c_vars = ['Arctic_warming_rate']\n",
    "\n",
    "ppc = partial_corr(data=at_plt_data, x=x_var,\n",
    "             y=y_var, covar=c_vars, method='pearson')\n",
    "\n",
    "print('Partial correlation analysis, for {y} in terms of {x}, controlling for {c}'.format(x=x_var, y=y_var, c=c_vars[0]))\n",
    "\n",
    "print('r: '+str(np.round((ppc.r), 3)))\n",
    "print('r\\u00b2: '+str(np.round((ppc.r)**2, 3)))\n",
    "print('pval'+str(np.round(ppc['p-val'], 3)))\n"
   ]
  },
  {
   "cell_type": "code",
   "execution_count": null,
   "id": "df468c0e-a9e6-4c5a-89cf-019779ca6e30",
   "metadata": {},
   "outputs": [],
   "source": []
  },
  {
   "cell_type": "code",
   "execution_count": 8,
   "id": "f568c618-6bfb-412f-8cda-5d3f1ac025cc",
   "metadata": {},
   "outputs": [
    {
     "name": "stdout",
     "output_type": "stream",
     "text": [
      "std crossing: 5.671\n",
      "std AA: 0.616\n",
      "std Arctic warming rate: 0.024\n"
     ]
    }
   ],
   "source": [
    "### also print standard deviations\n",
    "data = out_dfs[1.5]\n",
    "\n",
    "print('std crossing: '+str(np.round(np.std(data['World_crossing_year']), 3)))\n",
    "print('std AA: '+str(np.round(np.std(data['AA']), 3)))\n",
    "print('std Arctic warming rate: '+str(np.round(np.std(data['Arctic_warming_rate']), 3)))"
   ]
  },
  {
   "cell_type": "code",
   "execution_count": 9,
   "id": "f406baa9-7cbb-43d3-a900-984b57ee7b61",
   "metadata": {},
   "outputs": [
    {
     "name": "stdout",
     "output_type": "stream",
     "text": [
      "IQR crossing: [2028.062  2036.4115]\n",
      "[8.3495]\n",
      "10th-90th crossing: [2024.9736 2038.8388]\n",
      "[13.8652]\n",
      "IQR AA: [1.15100309 1.8984922 ]\n"
     ]
    }
   ],
   "source": [
    "## also print IQR for crossing years and AA\n",
    "print('IQR crossing: '+str(np.percentile(at_plt_data['World_crossing_year'], [25, 75])))\n",
    "print(np.percentile(at_plt_data['World_crossing_year'], [75])- np.percentile(at_plt_data['World_crossing_year'], [25]))\n",
    "print('10th-90th crossing: '+str(np.percentile(at_plt_data['World_crossing_year'], [10, 90])))\n",
    "print(np.percentile(at_plt_data['World_crossing_year'], [90])- np.percentile(at_plt_data['World_crossing_year'], [10]))\n",
    "\n",
    "print('IQR AA: '+str(np.percentile(at_plt_data['AA'], [25, 75])))\n",
    "    "
   ]
  },
  {
   "cell_type": "code",
   "execution_count": null,
   "id": "83512cd4-86be-40bc-923b-6ac613399403",
   "metadata": {},
   "outputs": [],
   "source": []
  },
  {
   "cell_type": "markdown",
   "id": "7fbbe389-eb2b-4b86-8122-7558654641b2",
   "metadata": {},
   "source": [
    "### Now derive multiple linear regression model for crossing year in terms of linearised warming rates inside and outside the Arctic "
   ]
  },
  {
   "cell_type": "code",
   "execution_count": 10,
   "id": "45949ff9-3e3d-4155-b1a2-32cd8dc6f816",
   "metadata": {},
   "outputs": [
    {
     "name": "stdout",
     "output_type": "stream",
     "text": [
      "Coefficients:  [ -5.84401914 -50.09237854]\n",
      "Intercept:  2047.299824903708\n",
      "[0.19122401 0.68052827]\n",
      "Mean no_arctic warming rate:  0.25833377567625837\n",
      "Low and high AAs :[0.7402207  2.63429848]\n",
      "[2033.24175486]\n",
      "[2030.38225137]\n",
      "[2.85950349]\n"
     ]
    },
    {
     "name": "stderr",
     "output_type": "stream",
     "text": [
      "/home/users/a_duffey/.conda/envs/main/lib/python3.10/site-packages/sklearn/base.py:439: UserWarning: X does not have valid feature names, but LinearRegression was fitted with feature names\n",
      "  warnings.warn(\n",
      "/home/users/a_duffey/.conda/envs/main/lib/python3.10/site-packages/sklearn/base.py:439: UserWarning: X does not have valid feature names, but LinearRegression was fitted with feature names\n",
      "  warnings.warn(\n",
      "/home/users/a_duffey/.conda/envs/main/lib/python3.10/site-packages/sklearn/base.py:439: UserWarning: X does not have valid feature names, but LinearRegression was fitted with feature names\n",
      "  warnings.warn(\n",
      "/home/users/a_duffey/.conda/envs/main/lib/python3.10/site-packages/sklearn/base.py:439: UserWarning: X does not have valid feature names, but LinearRegression was fitted with feature names\n",
      "  warnings.warn(\n"
     ]
    }
   ],
   "source": [
    "from sklearn import linear_model\n",
    "#Xs = ['Arctic_warming_rate', 'No_arctic_warming_rate']\n",
    "Xs = ['Arctic_warming_rate', 'No_arctic_warming_rate']\n",
    "\n",
    "X = 10*at_plt_data[Xs]\n",
    "y = at_plt_data['World_crossing_year']\n",
    "\n",
    "regr = linear_model.LinearRegression()\n",
    "regr.fit(X, y)\n",
    "\n",
    "print('Coefficients: ', regr.coef_)\n",
    "print('Intercept: ', regr.intercept_)\n",
    "\n",
    "\n",
    "tests = 10*np.percentile(at_plt_data[Xs[0]], [10, 90])\n",
    "print(tests)\n",
    "test_m = 10*at_plt_data[Xs[1]].mean()\n",
    "print('Mean no_arctic warming rate: ', test_m)\n",
    "print('Low and high AAs :'+str(tests/test_m))\n",
    "for x in tests:\n",
    "    \n",
    "    print(regr.predict([[x, test_m]]))\n",
    "    \n",
    "\n",
    "print(regr.predict([[tests[0], test_m]])-regr.predict([[tests[1], test_m]]))\n"
   ]
  },
  {
   "cell_type": "code",
   "execution_count": 11,
   "id": "9bdbcb33-8e8a-4e02-877d-c0a2190c48d5",
   "metadata": {},
   "outputs": [
    {
     "data": {
      "text/plain": [
       "0.75640205769447"
      ]
     },
     "execution_count": 11,
     "metadata": {},
     "output_type": "execute_result"
    }
   ],
   "source": [
    "regr.score(X, y)"
   ]
  },
  {
   "cell_type": "code",
   "execution_count": null,
   "id": "07a47b79-72ba-4f37-a94f-533cf596c415",
   "metadata": {},
   "outputs": [],
   "source": []
  }
 ],
 "metadata": {
  "kernelspec": {
   "display_name": "main",
   "language": "python",
   "name": "main"
  },
  "language_info": {
   "codemirror_mode": {
    "name": "ipython",
    "version": 3
   },
   "file_extension": ".py",
   "mimetype": "text/x-python",
   "name": "python",
   "nbconvert_exporter": "python",
   "pygments_lexer": "ipython3",
   "version": "3.10.5"
  }
 },
 "nbformat": 4,
 "nbformat_minor": 5
}
