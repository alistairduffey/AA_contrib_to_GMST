{
 "cells": [
  {
   "cell_type": "code",
   "execution_count": 3,
   "id": "4286163d-c6a1-4227-b1a8-0c3864fb6c34",
   "metadata": {},
   "outputs": [],
   "source": [
    "import matplotlib.pyplot as plt\n",
    "import numpy as np\n",
    "import xarray as xr\n",
    "import os\n",
    "import glob\n",
    "import matplotlib.pyplot as plt\n",
    "import cartopy.crs as ccrs\n",
    "import cartopy.feature as cfeature\n",
    "import pandas as pd\n",
    "import iris\n",
    "import iris.quickplot as qplt\n",
    "import iris.plot as iplt\n",
    "from iris.experimental.regrid import regrid_weighted_curvilinear_to_rectilinear\n",
    "import json\n",
    "import cftime\n",
    "from itertools import product\n",
    "from cftime import DatetimeNoLeap\n",
    "#import iris_utils\n",
    "#import Gridding\n",
    "#from nc_processing import *\n",
    "#from JASMIN_utils import *\n",
    "#from analysis import * \n",
    "#from plotting import *\n",
    "import esmvalcore.preprocessor\n",
    "import xesmf as xe\n",
    "import warnings\n",
    "%matplotlib inline\n",
    "import seaborn as sns\n",
    "#sns.set()\n",
    "\n",
    "from datatree import DataTree\n",
    "from xmip.preprocessing import rename_cmip6\n",
    "\n",
    "\n",
    "def legend_without_duplicate_labels(ax):\n",
    "    handles, labels = ax.get_legend_handles_labels()\n",
    "    unique = [(h, l) for i, (h, l) in enumerate(zip(handles, labels)) if l not in labels[:i]]\n",
    "    ax.legend(*zip(*unique))"
   ]
  },
  {
   "cell_type": "code",
   "execution_count": 6,
   "id": "9ece6a53-2fae-4617-a531-6c8f372c42f7",
   "metadata": {},
   "outputs": [],
   "source": [
    "experiment = \"ssp370\"\n",
    "dirs = []\n",
    "var_path = \"Amon/tas\"\n",
    "\n",
    "for x in glob.glob('/badc/cmip6/data/CMIP6/ScenarioMIP/*/*/{e}/*/{v}/*/latest/'.format(e=experiment, v=var_path)):\n",
    "    dirs.append(x)\n"
   ]
  },
  {
   "cell_type": "code",
   "execution_count": null,
   "id": "7ed1263b-d221-43bc-b465-876f6b724ceb",
   "metadata": {},
   "outputs": [],
   "source": [
    "#cut down:\n",
    "dirs = dirs[0:5]"
   ]
  },
  {
   "cell_type": "code",
   "execution_count": null,
   "id": "75a78e5c-3a3b-4a55-adbe-771808c7a0dd",
   "metadata": {},
   "outputs": [],
   "source": [
    "names = []\n",
    "for folder in dirs:\n",
    "    name = str(folder.split('/')[7] + \"/\" + folder.split('/')[8] + \"/\" + folder.split('/')[9])\n",
    "    names.append(name)\n",
    "\n",
    "cmip_stores = dict(zip(names, dirs))  \n",
    "\n",
    "datasets = {\n",
    "    name: rename_cmip6(xr.open_mfdataset(path + \"*.nc\", use_cftime=True))#.load()\n",
    "    for name, path in cmip_stores.items()\n",
    "}"
   ]
  },
  {
   "cell_type": "code",
   "execution_count": null,
   "id": "cd5ab362-43e3-4dfe-ab63-99c7d62fd353",
   "metadata": {},
   "outputs": [],
   "source": [
    "dt = DataTree.from_dict(datasets)\n",
    "\n",
    "print(f\"Size of data in tree = {dt.nbytes / 1e9 :.2f} GB\")\n",
    "dt"
   ]
  },
  {
   "cell_type": "code",
   "execution_count": null,
   "id": "1061775e-41d3-4242-980b-c99dbaef4611",
   "metadata": {},
   "outputs": [],
   "source": []
  },
  {
   "cell_type": "code",
   "execution_count": null,
   "id": "7268bd09-d6e8-4dae-8dfa-0e4348672738",
   "metadata": {},
   "outputs": [],
   "source": []
  }
 ],
 "metadata": {
  "kernelspec": {
   "display_name": "main",
   "language": "python",
   "name": "main"
  },
  "language_info": {
   "codemirror_mode": {
    "name": "ipython",
    "version": 3
   },
   "file_extension": ".py",
   "mimetype": "text/x-python",
   "name": "python",
   "nbconvert_exporter": "python",
   "pygments_lexer": "ipython3",
   "version": "3.10.5"
  }
 },
 "nbformat": 4,
 "nbformat_minor": 5
}
