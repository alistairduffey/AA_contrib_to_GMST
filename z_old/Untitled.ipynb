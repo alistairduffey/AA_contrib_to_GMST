{
 "cells": [
  {
   "cell_type": "code",
   "execution_count": 1,
   "id": "1be61133-2b14-4c5d-8abe-9adf0765881d",
   "metadata": {},
   "outputs": [],
   "source": [
    "import os\n"
   ]
  },
  {
   "cell_type": "code",
   "execution_count": 8,
   "id": "c8069865-9625-4c56-ba46-e20f45bfcfee",
   "metadata": {},
   "outputs": [
    {
     "data": {
      "text/plain": [
       "['clt',\n",
       " 'hfls',\n",
       " 'hfss',\n",
       " 'hurs',\n",
       " 'huss',\n",
       " 'mrro',\n",
       " 'mrsos',\n",
       " 'pr',\n",
       " 'prc',\n",
       " 'prsn',\n",
       " 'psl',\n",
       " 'rlds',\n",
       " 'rlus',\n",
       " 'rlut',\n",
       " 'rsds',\n",
       " 'rsus',\n",
       " 'sfcWind',\n",
       " 'sfcWindmax',\n",
       " 'snc',\n",
       " 'snw',\n",
       " 'tas',\n",
       " 'tasmax',\n",
       " 'tasmin',\n",
       " 'uas',\n",
       " 'vas']"
      ]
     },
     "execution_count": 8,
     "metadata": {},
     "output_type": "execute_result"
    }
   ],
   "source": [
    "\n",
    "\n",
    "os.listdir('/badc/cmip6/data/CMIP6/GeoMIP/MOHC/UKESM1-0-LL/G6sulfur/r1i1p1f2/day/')"
   ]
  },
  {
   "cell_type": "code",
   "execution_count": null,
   "id": "57b7bbf6-4330-4340-96c9-84d92b46e7a0",
   "metadata": {},
   "outputs": [],
   "source": []
  }
 ],
 "metadata": {
  "kernelspec": {
   "display_name": "Python 3 (ipykernel)",
   "language": "python",
   "name": "python3"
  },
  "language_info": {
   "codemirror_mode": {
    "name": "ipython",
    "version": 3
   },
   "file_extension": ".py",
   "mimetype": "text/x-python",
   "name": "python",
   "nbconvert_exporter": "python",
   "pygments_lexer": "ipython3",
   "version": "3.9.13"
  }
 },
 "nbformat": 4,
 "nbformat_minor": 5
}
